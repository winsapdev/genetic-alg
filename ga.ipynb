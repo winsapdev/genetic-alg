{
 "cells": [
  {
   "cell_type": "markdown",
   "metadata": {},
   "source": [
    "# Corona Vaccine Distribution"
   ]
  },
  {
   "cell_type": "markdown",
   "metadata": {},
   "source": [
    "# Introduction"
   ]
  },
  {
   "cell_type": "markdown",
   "metadata": {},
   "source": [
    "## problem"
   ]
  },
  {
   "cell_type": "markdown",
   "metadata": {},
   "source": [
    "# Initiation"
   ]
  },
  {
   "cell_type": "code",
   "execution_count": 128,
   "metadata": {},
   "outputs": [],
   "source": [
    "# import module\n",
    "import random\n",
    "import matplotlib.pyplot as plt\n",
    "from jupyterthemes import jtplot\n",
    "jtplot.style(theme='monokai', context='notebook', ticks=True, grid=False)"
   ]
  },
  {
   "cell_type": "markdown",
   "metadata": {},
   "source": [
    "### Individu"
   ]
  },
  {
   "cell_type": "code",
   "execution_count": 129,
   "metadata": {},
   "outputs": [],
   "source": [
    "def create_individu(max):\n",
    "    return [random.randint(i, max) for i in init_data]"
   ]
  },
  {
   "cell_type": "markdown",
   "metadata": {},
   "source": [
    "### Population"
   ]
  },
  {
   "cell_type": "code",
   "execution_count": 130,
   "metadata": {},
   "outputs": [],
   "source": [
    "def create_population(num_of_individu, max):\n",
    "    return [create_individu(max) for i in range(num_of_individu)]"
   ]
  },
  {
   "cell_type": "markdown",
   "metadata": {},
   "source": [
    "### Fitness Function"
   ]
  },
  {
   "cell_type": "code",
   "execution_count": 131,
   "metadata": {},
   "outputs": [],
   "source": [
    "def fitness_value(individu, target):\n",
    "    summed = sum(individu)\n",
    "    return int(target-summed)"
   ]
  },
  {
   "cell_type": "code",
   "execution_count": 132,
   "metadata": {},
   "outputs": [],
   "source": [
    "def calc_population_fitness(population, target):\n",
    "    return [fitness_value(individu, target) for individu in population]"
   ]
  },
  {
   "cell_type": "markdown",
   "metadata": {},
   "source": [
    "# Representation"
   ]
  },
  {
   "cell_type": "markdown",
   "metadata": {},
   "source": [
    "## One Variable"
   ]
  },
  {
   "cell_type": "markdown",
   "metadata": {},
   "source": [
    "## Two Variable"
   ]
  },
  {
   "cell_type": "markdown",
   "metadata": {},
   "source": [
    "# Parent Selection"
   ]
  },
  {
   "cell_type": "markdown",
   "metadata": {},
   "source": [
    "## Best Selection"
   ]
  },
  {
   "cell_type": "code",
   "execution_count": 133,
   "metadata": {},
   "outputs": [],
   "source": [
    "def best_selection(population, target):\n",
    "    pop_tuple = [(idv, fitness_value(idv, target)) for idv in population]\n",
    "    sorted_tuple = sorted(pop_tuple, key=lambda pop: pop[1])  # sort by fitness\n",
    "    # return 2 best individu\n",
    "    best2 = []\n",
    "    for idv in sorted_tuple:\n",
    "        best2.append(idv[0])\n",
    "    return best2[0:2]\n",
    "    # return sorted_tuple[0:2] # untuk tampilan tuple('population', 'fitnes')"
   ]
  },
  {
   "cell_type": "markdown",
   "metadata": {},
   "source": [
    "## Roulette"
   ]
  },
  {
   "cell_type": "code",
   "execution_count": 134,
   "metadata": {},
   "outputs": [],
   "source": [
    "# # roulete\n",
    "# def roulette(population, vaksin):\n",
    "#     '''\n",
    "#     aturan :\n",
    "#     jika telah terpilih 1 \n",
    "#     maka individu itu harus terdelete dari populasi untuk dilakukan roulete lagi\n",
    "#     '''\n",
    "#     pop = population.copy()\n",
    "#     selected = []\n",
    "#     for i in range(2):\n",
    "#         summed = sum(calc_population_fitness(pop, vaksin))\n",
    "#         point = random.randint(0, summed)\n",
    "#         total = 0\n",
    "#         for individu in pop:\n",
    "#             total = total + fitness_value(individu, vaksin)\n",
    "#             if point < total:\n",
    "#                 selected.append(individu)\n",
    "#                 pop.remove(individu) #hapus individu untuk roulete selanjutnya\n",
    "#     return selected\n",
    "\n",
    "def roulette(population, vaksin):\n",
    "    selected = []\n",
    "    while(len(selected)<2):\n",
    "        idv = do_roulette(population, vaksin)\n",
    "        if idv not in selected:\n",
    "            selected.append(idv)\n",
    "    return selected\n",
    "\n",
    "\n",
    "def do_roulette(population, vaksin):\n",
    "    summed = sum(calc_population_fitness(population, vaksin))\n",
    "    point = random.randint(0, summed)\n",
    "    total = 0\n",
    "    for individu in pop:\n",
    "        total = total + fitness_value(individu, vaksin)\n",
    "        if point < total:\n",
    "            return individu"
   ]
  },
  {
   "cell_type": "markdown",
   "metadata": {},
   "source": [
    "## Simple Tournamen"
   ]
  },
  {
   "cell_type": "code",
   "execution_count": 135,
   "metadata": {},
   "outputs": [],
   "source": [
    "def simple_tournament(population, target):\n",
    "    random_idv = random.sample(population, 2)\n",
    "    idv1 = random_idv[0]\n",
    "    idv2 = random_idv[1]\n",
    "    if fitness_value(idv1, target) >= fitness_value(idv2, target):\n",
    "        #population.remove(idv1)\n",
    "        return idv1\n",
    "    else:\n",
    "        #population.remove(idv2)\n",
    "        return idv2\n",
    "    \n",
    "def parent_from_tournamen(population, target):\n",
    "    selected = []\n",
    "    for i in range(2):\n",
    "        p = simple_tournament(population, target)\n",
    "        selected.append(p)\n",
    "    return selected"
   ]
  },
  {
   "cell_type": "markdown",
   "metadata": {},
   "source": [
    "# Crossover"
   ]
  },
  {
   "cell_type": "markdown",
   "metadata": {},
   "source": [
    "## Uniform"
   ]
  },
  {
   "cell_type": "code",
   "execution_count": 136,
   "metadata": {},
   "outputs": [],
   "source": [
    "def uniform(parent):\n",
    "    treshold = 0.6\n",
    "    papa = parent[0]\n",
    "    mama = parent[1]\n",
    "    temp_indv = []\n",
    "    for i in range(len(papa)):\n",
    "        temp_indv.append(round(random.uniform(0, 1), 1))\n",
    "\n",
    "    # print(temp_indv)\n",
    "    # swap process\n",
    "    offspring = []\n",
    "    for i, g in enumerate(temp_indv):\n",
    "        if g >= treshold:\n",
    "            # isi gen papa\n",
    "            offspring.append(papa[i])\n",
    "        elif g < treshold:\n",
    "            # isi gen mama\n",
    "            offspring.append(mama[i])\n",
    "    return offspring"
   ]
  },
  {
   "cell_type": "markdown",
   "metadata": {},
   "source": [
    "## Point Crossover"
   ]
  },
  {
   "cell_type": "code",
   "execution_count": 137,
   "metadata": {},
   "outputs": [],
   "source": [
    "def point_xover(parent):\n",
    "    papa = parent[0]\n",
    "    mama = parent[1]\n",
    "    point_line = random.randint(0,len(papa)-1)\n",
    "    offspring = papa[:point_line] + mama[point_line:]\n",
    "    return offspring"
   ]
  },
  {
   "cell_type": "markdown",
   "metadata": {},
   "source": [
    "## Order Crossover"
   ]
  },
  {
   "cell_type": "markdown",
   "metadata": {},
   "source": [
    "# Mutation"
   ]
  },
  {
   "cell_type": "code",
   "execution_count": 138,
   "metadata": {},
   "outputs": [],
   "source": [
    "def mutate(offspring, validation_data, max_val, mut_chance=0.67):\n",
    "    '''\n",
    "    mutasikan individu baru dengan metode replace\n",
    "    nilai replace = random\n",
    "    posisi gen = random\n",
    "    lakukan validasi dengan init_data sebelum return\n",
    "    '''\n",
    "    r = round(random.uniform(0, 1), 2)\n",
    "    if mut_chance > r:\n",
    "        posisi = random.randint(0, len(offspring)-1)\n",
    "        offspring[posisi] = random.randint(validation_data[posisi], max_val)\n",
    "        return offspring\n",
    "    else:\n",
    "        return offspring"
   ]
  },
  {
   "cell_type": "markdown",
   "metadata": {},
   "source": [
    "# Natural Selection"
   ]
  },
  {
   "cell_type": "markdown",
   "metadata": {},
   "source": [
    "## Replace Worst Individu"
   ]
  },
  {
   "cell_type": "code",
   "execution_count": 139,
   "metadata": {},
   "outputs": [],
   "source": [
    "def replace_worst_individu(population, new_offspring, target):\n",
    "    population.append(new_offspring)\n",
    "\n",
    "    # sorting population berdasarkan fitnes\n",
    "    pop_tuple = [(fitness_value(idv, target), idv) for idv in population]\n",
    "    sorted_tuple = sorted(pop_tuple, key=lambda idv: idv[0])\n",
    "\n",
    "    # tuple terakhir pasti fitnes terjelek\n",
    "    sorted_tuple.pop()\n",
    "    pop = []\n",
    "    for idv in sorted_tuple:\n",
    "        pop.append(idv[1])\n",
    "    return pop"
   ]
  },
  {
   "cell_type": "markdown",
   "metadata": {},
   "source": [
    "## Replace Worst Parent"
   ]
  },
  {
   "cell_type": "code",
   "execution_count": 140,
   "metadata": {},
   "outputs": [],
   "source": [
    "def replace_worst_parent(population, parent, child, target):\n",
    "    for idv in parent:\n",
    "        idv_index = population.index(idv)\n",
    "        population.pop(idv_index)\n",
    "    \n",
    "    #compare fitness parent and child\n",
    "    parent_child_compare = [parent[0], parent[1], child]\n",
    "    compare = [(fitness_value(idv, target), idv) for idv in parent_child_compare]\n",
    "    sorted_compare = sorted(compare, key=lambda idv: idv[0])\n",
    "    \n",
    "    print('population setelah di remove parent',population)\n",
    "    print('papa-mama-child', parent_child_compare)\n",
    "    \n",
    "    print('parent child compare', sorted_compare)\n",
    "    #last individu in list will be remove either parent or child\n",
    "    sorted_compare.pop()\n",
    "    \n",
    "    #append 2 individu in population\n",
    "    for idv in sorted_compare:\n",
    "        population.append(idv[1])\n",
    "        \n",
    "    #short all population\n",
    "    pop = [(fitness_value(idv, target), idv) for idv in population]\n",
    "    short_pop = sorted(pop, key=lambda idv: idv[0])\n",
    "    return short_pop[1]"
   ]
  },
  {
   "cell_type": "code",
   "execution_count": 141,
   "metadata": {},
   "outputs": [],
   "source": [
    "def print_natural_selection(population, target):\n",
    "    '''\n",
    "    return in tuple format (fitness, individu)\n",
    "    '''\n",
    "    # sorting population berdasarkan fitnes\n",
    "    pop_tuple = [(fitness_value(idv, target), idv) for idv in population]\n",
    "    sorted_tuple = sorted(pop_tuple, key=lambda x: x[0])\n",
    "    return pop_tuple"
   ]
  },
  {
   "cell_type": "markdown",
   "metadata": {},
   "source": [
    "# Run Code Together\n",
    "*coba kombinasinya*"
   ]
  },
  {
   "cell_type": "code",
   "execution_count": 142,
   "metadata": {
    "scrolled": false
   },
   "outputs": [
    {
     "name": "stdout",
     "output_type": "stream",
     "text": [
      "generasi awal [[52, 51, 51, 48, 49], [53, 44, 44, 54, 50], [55, 45, 31, 51, 50], [51, 27, 33, 51, 55], [54, 55, 37, 51, 53], [55, 50, 22, 53, 54], [54, 27, 29, 47, 48], [51, 29, 51, 49, 48], [53, 37, 21, 52, 53], [52, 53, 28, 52, 51]]\n",
      "--------------------------\n",
      "ini generasi ke  1\n",
      "hasil selection [[52, 51, 51, 48, 49], [54, 55, 37, 51, 53]]\n",
      "hasil cross [52, 55, 37, 51, 53]\n",
      "hasil mutasi [52, 55, 37, 55, 53]\n",
      "populasi baru\n",
      "[[52, 55, 37, 55, 53], [52, 51, 51, 48, 49], [54, 55, 37, 51, 53], [53, 44, 44, 54, 50], [52, 53, 28, 52, 51], [55, 50, 22, 53, 54], [55, 45, 31, 51, 50], [51, 29, 51, 49, 48], [51, 27, 33, 51, 55], [53, 37, 21, 52, 53]]\n",
      "fitnes with individu\n",
      "[(14, [52, 55, 37, 55, 53]), (15, [52, 51, 51, 48, 49]), (16, [54, 55, 37, 51, 53]), (21, [53, 44, 44, 54, 50]), (30, [52, 53, 28, 52, 51]), (32, [55, 50, 22, 53, 54]), (34, [55, 45, 31, 51, 50]), (38, [51, 29, 51, 49, 48]), (49, [51, 27, 33, 51, 55]), (50, [53, 37, 21, 52, 53])]\n",
      "best fit and best individu in generation\n",
      "(14, [52, 55, 37, 55, 53])\n",
      "--------------------------\n",
      "ini generasi ke  2\n",
      "hasil selection [[52, 55, 37, 55, 53], [52, 51, 51, 48, 49]]\n",
      "hasil cross [52, 55, 51, 48, 49]\n",
      "hasil mutasi [52, 55, 38, 48, 49]\n",
      "populasi baru\n",
      "[[52, 55, 37, 55, 53], [52, 51, 51, 48, 49], [54, 55, 37, 51, 53], [53, 44, 44, 54, 50], [52, 55, 38, 48, 49], [52, 53, 28, 52, 51], [55, 50, 22, 53, 54], [55, 45, 31, 51, 50], [51, 29, 51, 49, 48], [51, 27, 33, 51, 55]]\n",
      "fitnes with individu\n",
      "[(14, [52, 55, 37, 55, 53]), (15, [52, 51, 51, 48, 49]), (16, [54, 55, 37, 51, 53]), (21, [53, 44, 44, 54, 50]), (24, [52, 55, 38, 48, 49]), (30, [52, 53, 28, 52, 51]), (32, [55, 50, 22, 53, 54]), (34, [55, 45, 31, 51, 50]), (38, [51, 29, 51, 49, 48]), (49, [51, 27, 33, 51, 55])]\n",
      "best fit and best individu in generation\n",
      "(14, [52, 55, 37, 55, 53])\n",
      "--------------------------\n",
      "ini generasi ke  3\n",
      "hasil selection [[52, 55, 37, 55, 53], [52, 51, 51, 48, 49]]\n",
      "hasil cross [52, 51, 51, 48, 49]\n",
      "hasil mutasi [52, 51, 51, 48, 51]\n",
      "populasi baru\n",
      "[[52, 51, 51, 48, 51], [52, 55, 37, 55, 53], [52, 51, 51, 48, 49], [54, 55, 37, 51, 53], [53, 44, 44, 54, 50], [52, 55, 38, 48, 49], [52, 53, 28, 52, 51], [55, 50, 22, 53, 54], [55, 45, 31, 51, 50], [51, 29, 51, 49, 48]]\n",
      "fitnes with individu\n",
      "[(13, [52, 51, 51, 48, 51]), (14, [52, 55, 37, 55, 53]), (15, [52, 51, 51, 48, 49]), (16, [54, 55, 37, 51, 53]), (21, [53, 44, 44, 54, 50]), (24, [52, 55, 38, 48, 49]), (30, [52, 53, 28, 52, 51]), (32, [55, 50, 22, 53, 54]), (34, [55, 45, 31, 51, 50]), (38, [51, 29, 51, 49, 48])]\n",
      "best fit and best individu in generation\n",
      "(13, [52, 51, 51, 48, 51])\n",
      "--------------------------\n",
      "ini generasi ke  4\n",
      "hasil selection [[52, 51, 51, 48, 51], [52, 55, 37, 55, 53]]\n",
      "hasil cross [52, 51, 37, 55, 53]\n",
      "hasil mutasi [52, 51, 37, 55, 54]\n",
      "populasi baru\n",
      "[[52, 51, 51, 48, 51], [52, 55, 37, 55, 53], [52, 51, 51, 48, 49], [54, 55, 37, 51, 53], [52, 51, 37, 55, 54], [53, 44, 44, 54, 50], [52, 55, 38, 48, 49], [52, 53, 28, 52, 51], [55, 50, 22, 53, 54], [55, 45, 31, 51, 50]]\n",
      "fitnes with individu\n",
      "[(13, [52, 51, 51, 48, 51]), (14, [52, 55, 37, 55, 53]), (15, [52, 51, 51, 48, 49]), (16, [54, 55, 37, 51, 53]), (17, [52, 51, 37, 55, 54]), (21, [53, 44, 44, 54, 50]), (24, [52, 55, 38, 48, 49]), (30, [52, 53, 28, 52, 51]), (32, [55, 50, 22, 53, 54]), (34, [55, 45, 31, 51, 50])]\n",
      "best fit and best individu in generation\n",
      "(13, [52, 51, 51, 48, 51])\n",
      "--------------------------\n",
      "ini generasi ke  5\n",
      "hasil selection [[52, 51, 51, 48, 51], [52, 55, 37, 55, 53]]\n",
      "hasil cross [52, 51, 37, 55, 53]\n",
      "hasil mutasi [52, 51, 37, 55, 53]\n",
      "populasi baru\n",
      "[[52, 51, 51, 48, 51], [52, 55, 37, 55, 53], [52, 51, 51, 48, 49], [54, 55, 37, 51, 53], [52, 51, 37, 55, 54], [52, 51, 37, 55, 53], [53, 44, 44, 54, 50], [52, 55, 38, 48, 49], [52, 53, 28, 52, 51], [55, 50, 22, 53, 54]]\n",
      "fitnes with individu\n",
      "[(13, [52, 51, 51, 48, 51]), (14, [52, 55, 37, 55, 53]), (15, [52, 51, 51, 48, 49]), (16, [54, 55, 37, 51, 53]), (17, [52, 51, 37, 55, 54]), (18, [52, 51, 37, 55, 53]), (21, [53, 44, 44, 54, 50]), (24, [52, 55, 38, 48, 49]), (30, [52, 53, 28, 52, 51]), (32, [55, 50, 22, 53, 54])]\n",
      "best fit and best individu in generation\n",
      "(13, [52, 51, 51, 48, 51])\n",
      "--------------------------\n",
      "ini generasi ke  6\n",
      "hasil selection [[52, 51, 51, 48, 51], [52, 55, 37, 55, 53]]\n",
      "hasil cross [52, 51, 37, 55, 53]\n",
      "hasil mutasi [52, 51, 37, 54, 53]\n",
      "populasi baru\n",
      "[[52, 51, 51, 48, 51], [52, 55, 37, 55, 53], [52, 51, 51, 48, 49], [54, 55, 37, 51, 53], [52, 51, 37, 55, 54], [52, 51, 37, 55, 53], [52, 51, 37, 54, 53], [53, 44, 44, 54, 50], [52, 55, 38, 48, 49], [52, 53, 28, 52, 51]]\n",
      "fitnes with individu\n",
      "[(13, [52, 51, 51, 48, 51]), (14, [52, 55, 37, 55, 53]), (15, [52, 51, 51, 48, 49]), (16, [54, 55, 37, 51, 53]), (17, [52, 51, 37, 55, 54]), (18, [52, 51, 37, 55, 53]), (19, [52, 51, 37, 54, 53]), (21, [53, 44, 44, 54, 50]), (24, [52, 55, 38, 48, 49]), (30, [52, 53, 28, 52, 51])]\n",
      "best fit and best individu in generation\n",
      "(13, [52, 51, 51, 48, 51])\n",
      "--------------------------\n",
      "ini generasi ke  7\n",
      "hasil selection [[52, 51, 51, 48, 51], [52, 55, 37, 55, 53]]\n",
      "hasil cross [52, 51, 51, 55, 53]\n",
      "hasil mutasi [52, 51, 22, 55, 53]\n",
      "populasi baru\n",
      "[[52, 51, 51, 48, 51], [52, 55, 37, 55, 53], [52, 51, 51, 48, 49], [54, 55, 37, 51, 53], [52, 51, 37, 55, 54], [52, 51, 37, 55, 53], [52, 51, 37, 54, 53], [53, 44, 44, 54, 50], [52, 55, 38, 48, 49], [52, 53, 28, 52, 51]]\n",
      "fitnes with individu\n",
      "[(13, [52, 51, 51, 48, 51]), (14, [52, 55, 37, 55, 53]), (15, [52, 51, 51, 48, 49]), (16, [54, 55, 37, 51, 53]), (17, [52, 51, 37, 55, 54]), (18, [52, 51, 37, 55, 53]), (19, [52, 51, 37, 54, 53]), (21, [53, 44, 44, 54, 50]), (24, [52, 55, 38, 48, 49]), (30, [52, 53, 28, 52, 51])]\n",
      "best fit and best individu in generation\n",
      "(13, [52, 51, 51, 48, 51])\n",
      "--------------------------\n",
      "ini generasi ke  8\n",
      "hasil selection [[52, 51, 51, 48, 51], [52, 55, 37, 55, 53]]\n",
      "hasil cross [52, 55, 37, 55, 53]\n",
      "hasil mutasi [52, 55, 37, 47, 53]\n",
      "populasi baru\n",
      "[[52, 51, 51, 48, 51], [52, 55, 37, 55, 53], [52, 51, 51, 48, 49], [54, 55, 37, 51, 53], [52, 51, 37, 55, 54], [52, 51, 37, 55, 53], [52, 51, 37, 54, 53], [53, 44, 44, 54, 50], [52, 55, 37, 47, 53], [52, 55, 38, 48, 49]]\n",
      "fitnes with individu\n",
      "[(13, [52, 51, 51, 48, 51]), (14, [52, 55, 37, 55, 53]), (15, [52, 51, 51, 48, 49]), (16, [54, 55, 37, 51, 53]), (17, [52, 51, 37, 55, 54]), (18, [52, 51, 37, 55, 53]), (19, [52, 51, 37, 54, 53]), (21, [53, 44, 44, 54, 50]), (22, [52, 55, 37, 47, 53]), (24, [52, 55, 38, 48, 49])]\n",
      "best fit and best individu in generation\n",
      "(13, [52, 51, 51, 48, 51])\n",
      "--------------------------\n",
      "ini generasi ke  9\n",
      "hasil selection [[52, 51, 51, 48, 51], [52, 55, 37, 55, 53]]\n",
      "hasil cross [52, 55, 37, 55, 53]\n",
      "hasil mutasi [52, 55, 37, 55, 51]\n",
      "populasi baru\n",
      "[[52, 51, 51, 48, 51], [52, 55, 37, 55, 53], [52, 51, 51, 48, 49], [54, 55, 37, 51, 53], [52, 55, 37, 55, 51], [52, 51, 37, 55, 54], [52, 51, 37, 55, 53], [52, 51, 37, 54, 53], [53, 44, 44, 54, 50], [52, 55, 37, 47, 53]]\n",
      "fitnes with individu\n",
      "[(13, [52, 51, 51, 48, 51]), (14, [52, 55, 37, 55, 53]), (15, [52, 51, 51, 48, 49]), (16, [54, 55, 37, 51, 53]), (16, [52, 55, 37, 55, 51]), (17, [52, 51, 37, 55, 54]), (18, [52, 51, 37, 55, 53]), (19, [52, 51, 37, 54, 53]), (21, [53, 44, 44, 54, 50]), (22, [52, 55, 37, 47, 53])]\n",
      "best fit and best individu in generation\n",
      "(13, [52, 51, 51, 48, 51])\n",
      "--------------------------\n",
      "ini generasi ke  10\n",
      "hasil selection [[52, 51, 51, 48, 51], [52, 55, 37, 55, 53]]\n",
      "hasil cross [52, 55, 37, 55, 53]\n",
      "hasil mutasi [52, 30, 37, 55, 53]\n",
      "populasi baru\n",
      "[[52, 51, 51, 48, 51], [52, 55, 37, 55, 53], [52, 51, 51, 48, 49], [54, 55, 37, 51, 53], [52, 55, 37, 55, 51], [52, 51, 37, 55, 54], [52, 51, 37, 55, 53], [52, 51, 37, 54, 53], [53, 44, 44, 54, 50], [52, 55, 37, 47, 53]]\n",
      "fitnes with individu\n",
      "[(13, [52, 51, 51, 48, 51]), (14, [52, 55, 37, 55, 53]), (15, [52, 51, 51, 48, 49]), (16, [54, 55, 37, 51, 53]), (16, [52, 55, 37, 55, 51]), (17, [52, 51, 37, 55, 54]), (18, [52, 51, 37, 55, 53]), (19, [52, 51, 37, 54, 53]), (21, [53, 44, 44, 54, 50]), (22, [52, 55, 37, 47, 53])]\n",
      "best fit and best individu in generation\n",
      "(13, [52, 51, 51, 48, 51])\n",
      "--------------------------\n",
      "ini generasi ke  11\n",
      "hasil selection [[52, 51, 51, 48, 51], [52, 55, 37, 55, 53]]\n",
      "hasil cross [52, 51, 51, 55, 53]\n",
      "hasil mutasi [52, 51, 51, 53, 53]\n",
      "populasi baru\n",
      "[[52, 51, 51, 53, 53], [52, 51, 51, 48, 51], [52, 55, 37, 55, 53], [52, 51, 51, 48, 49], [54, 55, 37, 51, 53], [52, 55, 37, 55, 51], [52, 51, 37, 55, 54], [52, 51, 37, 55, 53], [52, 51, 37, 54, 53], [53, 44, 44, 54, 50]]\n",
      "fitnes with individu\n",
      "[(6, [52, 51, 51, 53, 53]), (13, [52, 51, 51, 48, 51]), (14, [52, 55, 37, 55, 53]), (15, [52, 51, 51, 48, 49]), (16, [54, 55, 37, 51, 53]), (16, [52, 55, 37, 55, 51]), (17, [52, 51, 37, 55, 54]), (18, [52, 51, 37, 55, 53]), (19, [52, 51, 37, 54, 53]), (21, [53, 44, 44, 54, 50])]\n",
      "best fit and best individu in generation\n",
      "(6, [52, 51, 51, 53, 53])\n",
      "--------------------------\n",
      "ini generasi ke  12\n",
      "hasil selection [[52, 51, 51, 53, 53], [52, 51, 51, 48, 51]]\n",
      "hasil cross [52, 51, 51, 48, 51]\n",
      "hasil mutasi [52, 51, 51, 48, 49]\n",
      "populasi baru\n",
      "[[52, 51, 51, 53, 53], [52, 51, 51, 48, 51], [52, 55, 37, 55, 53], [52, 51, 51, 48, 49], [52, 51, 51, 48, 49], [54, 55, 37, 51, 53], [52, 55, 37, 55, 51], [52, 51, 37, 55, 54], [52, 51, 37, 55, 53], [52, 51, 37, 54, 53]]\n",
      "fitnes with individu\n",
      "[(6, [52, 51, 51, 53, 53]), (13, [52, 51, 51, 48, 51]), (14, [52, 55, 37, 55, 53]), (15, [52, 51, 51, 48, 49]), (15, [52, 51, 51, 48, 49]), (16, [54, 55, 37, 51, 53]), (16, [52, 55, 37, 55, 51]), (17, [52, 51, 37, 55, 54]), (18, [52, 51, 37, 55, 53]), (19, [52, 51, 37, 54, 53])]\n",
      "best fit and best individu in generation\n",
      "(6, [52, 51, 51, 53, 53])\n",
      "--------------------------\n",
      "ini generasi ke  13\n",
      "hasil selection [[52, 51, 51, 53, 53], [52, 51, 51, 48, 51]]\n",
      "hasil cross [52, 51, 51, 48, 51]\n",
      "hasil mutasi [52, 51, 51, 48, 50]\n",
      "populasi baru\n",
      "[[52, 51, 51, 53, 53], [52, 51, 51, 48, 51], [52, 55, 37, 55, 53], [52, 51, 51, 48, 50], [52, 51, 51, 48, 49], [52, 51, 51, 48, 49], [54, 55, 37, 51, 53], [52, 55, 37, 55, 51], [52, 51, 37, 55, 54], [52, 51, 37, 55, 53]]\n",
      "fitnes with individu\n",
      "[(6, [52, 51, 51, 53, 53]), (13, [52, 51, 51, 48, 51]), (14, [52, 55, 37, 55, 53]), (14, [52, 51, 51, 48, 50]), (15, [52, 51, 51, 48, 49]), (15, [52, 51, 51, 48, 49]), (16, [54, 55, 37, 51, 53]), (16, [52, 55, 37, 55, 51]), (17, [52, 51, 37, 55, 54]), (18, [52, 51, 37, 55, 53])]\n",
      "best fit and best individu in generation\n",
      "(6, [52, 51, 51, 53, 53])\n",
      "--------------------------\n",
      "ini generasi ke  14\n",
      "hasil selection [[52, 51, 51, 53, 53], [52, 51, 51, 48, 51]]\n",
      "hasil cross [52, 51, 51, 48, 51]\n",
      "hasil mutasi [52, 51, 51, 48, 51]\n",
      "populasi baru\n",
      "[[52, 51, 51, 53, 53], [52, 51, 51, 48, 51], [52, 51, 51, 48, 51], [52, 55, 37, 55, 53], [52, 51, 51, 48, 50], [52, 51, 51, 48, 49], [52, 51, 51, 48, 49], [54, 55, 37, 51, 53], [52, 55, 37, 55, 51], [52, 51, 37, 55, 54]]\n",
      "fitnes with individu\n",
      "[(6, [52, 51, 51, 53, 53]), (13, [52, 51, 51, 48, 51]), (13, [52, 51, 51, 48, 51]), (14, [52, 55, 37, 55, 53]), (14, [52, 51, 51, 48, 50]), (15, [52, 51, 51, 48, 49]), (15, [52, 51, 51, 48, 49]), (16, [54, 55, 37, 51, 53]), (16, [52, 55, 37, 55, 51]), (17, [52, 51, 37, 55, 54])]\n",
      "best fit and best individu in generation\n",
      "(6, [52, 51, 51, 53, 53])\n",
      "--------------------------\n",
      "ini generasi ke  15\n",
      "hasil selection [[52, 51, 51, 53, 53], [52, 51, 51, 48, 51]]\n",
      "hasil cross [52, 51, 51, 53, 51]\n",
      "hasil mutasi [52, 51, 51, 53, 51]\n",
      "populasi baru\n",
      "[[52, 51, 51, 53, 53], [52, 51, 51, 53, 51], [52, 51, 51, 48, 51], [52, 51, 51, 48, 51], [52, 55, 37, 55, 53], [52, 51, 51, 48, 50], [52, 51, 51, 48, 49], [52, 51, 51, 48, 49], [54, 55, 37, 51, 53], [52, 55, 37, 55, 51]]\n",
      "fitnes with individu\n",
      "[(6, [52, 51, 51, 53, 53]), (8, [52, 51, 51, 53, 51]), (13, [52, 51, 51, 48, 51]), (13, [52, 51, 51, 48, 51]), (14, [52, 55, 37, 55, 53]), (14, [52, 51, 51, 48, 50]), (15, [52, 51, 51, 48, 49]), (15, [52, 51, 51, 48, 49]), (16, [54, 55, 37, 51, 53]), (16, [52, 55, 37, 55, 51])]\n",
      "best fit and best individu in generation\n",
      "(6, [52, 51, 51, 53, 53])\n",
      "--------------------------\n",
      "ini generasi ke  16\n",
      "hasil selection [[52, 51, 51, 53, 53], [52, 51, 51, 53, 51]]\n",
      "hasil cross [52, 51, 51, 53, 51]\n",
      "hasil mutasi [53, 51, 51, 53, 51]\n",
      "populasi baru\n",
      "[[52, 51, 51, 53, 53], [53, 51, 51, 53, 51], [52, 51, 51, 53, 51], [52, 51, 51, 48, 51], [52, 51, 51, 48, 51], [52, 55, 37, 55, 53], [52, 51, 51, 48, 50], [52, 51, 51, 48, 49], [52, 51, 51, 48, 49], [54, 55, 37, 51, 53]]\n",
      "fitnes with individu\n",
      "[(6, [52, 51, 51, 53, 53]), (7, [53, 51, 51, 53, 51]), (8, [52, 51, 51, 53, 51]), (13, [52, 51, 51, 48, 51]), (13, [52, 51, 51, 48, 51]), (14, [52, 55, 37, 55, 53]), (14, [52, 51, 51, 48, 50]), (15, [52, 51, 51, 48, 49]), (15, [52, 51, 51, 48, 49]), (16, [54, 55, 37, 51, 53])]\n",
      "best fit and best individu in generation\n",
      "(6, [52, 51, 51, 53, 53])\n",
      "--------------------------\n",
      "ini generasi ke  17\n",
      "hasil selection [[52, 51, 51, 53, 53], [53, 51, 51, 53, 51]]\n",
      "hasil cross [52, 51, 51, 53, 51]\n",
      "hasil mutasi [52, 51, 51, 53, 51]\n",
      "populasi baru\n",
      "[[52, 51, 51, 53, 53], [53, 51, 51, 53, 51], [52, 51, 51, 53, 51], [52, 51, 51, 53, 51], [52, 51, 51, 48, 51], [52, 51, 51, 48, 51], [52, 55, 37, 55, 53], [52, 51, 51, 48, 50], [52, 51, 51, 48, 49], [52, 51, 51, 48, 49]]\n",
      "fitnes with individu\n",
      "[(6, [52, 51, 51, 53, 53]), (7, [53, 51, 51, 53, 51]), (8, [52, 51, 51, 53, 51]), (8, [52, 51, 51, 53, 51]), (13, [52, 51, 51, 48, 51]), (13, [52, 51, 51, 48, 51]), (14, [52, 55, 37, 55, 53]), (14, [52, 51, 51, 48, 50]), (15, [52, 51, 51, 48, 49]), (15, [52, 51, 51, 48, 49])]\n",
      "best fit and best individu in generation\n",
      "(6, [52, 51, 51, 53, 53])\n",
      "--------------------------\n",
      "ini generasi ke  18\n",
      "hasil selection [[52, 51, 51, 53, 53], [53, 51, 51, 53, 51]]\n",
      "hasil cross [52, 51, 51, 53, 51]\n",
      "hasil mutasi [55, 51, 51, 53, 51]\n",
      "populasi baru\n",
      "[[55, 51, 51, 53, 51], [52, 51, 51, 53, 53], [53, 51, 51, 53, 51], [52, 51, 51, 53, 51], [52, 51, 51, 53, 51], [52, 51, 51, 48, 51], [52, 51, 51, 48, 51], [52, 55, 37, 55, 53], [52, 51, 51, 48, 50], [52, 51, 51, 48, 49]]\n",
      "fitnes with individu\n",
      "[(5, [55, 51, 51, 53, 51]), (6, [52, 51, 51, 53, 53]), (7, [53, 51, 51, 53, 51]), (8, [52, 51, 51, 53, 51]), (8, [52, 51, 51, 53, 51]), (13, [52, 51, 51, 48, 51]), (13, [52, 51, 51, 48, 51]), (14, [52, 55, 37, 55, 53]), (14, [52, 51, 51, 48, 50]), (15, [52, 51, 51, 48, 49])]\n",
      "best fit and best individu in generation\n",
      "(5, [55, 51, 51, 53, 51])\n",
      "--------------------------\n",
      "ini generasi ke  19\n",
      "hasil selection [[55, 51, 51, 53, 51], [52, 51, 51, 53, 53]]\n",
      "hasil cross [52, 51, 51, 53, 53]\n",
      "hasil mutasi [52, 51, 30, 53, 53]\n",
      "populasi baru\n",
      "[[55, 51, 51, 53, 51], [52, 51, 51, 53, 53], [53, 51, 51, 53, 51], [52, 51, 51, 53, 51], [52, 51, 51, 53, 51], [52, 51, 51, 48, 51], [52, 51, 51, 48, 51], [52, 55, 37, 55, 53], [52, 51, 51, 48, 50], [52, 51, 51, 48, 49]]\n",
      "fitnes with individu\n",
      "[(5, [55, 51, 51, 53, 51]), (6, [52, 51, 51, 53, 53]), (7, [53, 51, 51, 53, 51]), (8, [52, 51, 51, 53, 51]), (8, [52, 51, 51, 53, 51]), (13, [52, 51, 51, 48, 51]), (13, [52, 51, 51, 48, 51]), (14, [52, 55, 37, 55, 53]), (14, [52, 51, 51, 48, 50]), (15, [52, 51, 51, 48, 49])]\n",
      "best fit and best individu in generation\n",
      "(5, [55, 51, 51, 53, 51])\n",
      "--------------------------\n",
      "ini generasi ke  20\n",
      "hasil selection [[55, 51, 51, 53, 51], [52, 51, 51, 53, 53]]\n",
      "hasil cross [55, 51, 51, 53, 53]\n",
      "hasil mutasi [55, 51, 51, 53, 55]\n",
      "populasi baru\n",
      "[[55, 51, 51, 53, 55], [55, 51, 51, 53, 51], [52, 51, 51, 53, 53], [53, 51, 51, 53, 51], [52, 51, 51, 53, 51], [52, 51, 51, 53, 51], [52, 51, 51, 48, 51], [52, 51, 51, 48, 51], [52, 55, 37, 55, 53], [52, 51, 51, 48, 50]]\n",
      "fitnes with individu\n",
      "[(1, [55, 51, 51, 53, 55]), (5, [55, 51, 51, 53, 51]), (6, [52, 51, 51, 53, 53]), (7, [53, 51, 51, 53, 51]), (8, [52, 51, 51, 53, 51]), (8, [52, 51, 51, 53, 51]), (13, [52, 51, 51, 48, 51]), (13, [52, 51, 51, 48, 51]), (14, [52, 55, 37, 55, 53]), (14, [52, 51, 51, 48, 50])]\n",
      "best fit and best individu in generation\n",
      "(1, [55, 51, 51, 53, 55])\n",
      "--------------------------\n",
      "ini generasi ke  21\n",
      "hasil selection [[55, 51, 51, 53, 55], [55, 51, 51, 53, 51]]\n",
      "hasil cross [55, 51, 51, 53, 51]\n",
      "hasil mutasi [55, 51, 51, 53, 51]\n",
      "populasi baru\n",
      "[[55, 51, 51, 53, 55], [55, 51, 51, 53, 51], [55, 51, 51, 53, 51], [52, 51, 51, 53, 53], [53, 51, 51, 53, 51], [52, 51, 51, 53, 51], [52, 51, 51, 53, 51], [52, 51, 51, 48, 51], [52, 51, 51, 48, 51], [52, 55, 37, 55, 53]]\n",
      "fitnes with individu\n",
      "[(1, [55, 51, 51, 53, 55]), (5, [55, 51, 51, 53, 51]), (5, [55, 51, 51, 53, 51]), (6, [52, 51, 51, 53, 53]), (7, [53, 51, 51, 53, 51]), (8, [52, 51, 51, 53, 51]), (8, [52, 51, 51, 53, 51]), (13, [52, 51, 51, 48, 51]), (13, [52, 51, 51, 48, 51]), (14, [52, 55, 37, 55, 53])]\n",
      "best fit and best individu in generation\n",
      "(1, [55, 51, 51, 53, 55])\n",
      "--------------------------\n",
      "ini generasi ke  22\n",
      "hasil selection [[55, 51, 51, 53, 55], [55, 51, 51, 53, 51]]\n",
      "hasil cross [55, 51, 51, 53, 51]\n",
      "hasil mutasi [55, 51, 51, 53, 51]\n",
      "populasi baru\n",
      "[[55, 51, 51, 53, 55], [55, 51, 51, 53, 51], [55, 51, 51, 53, 51], [55, 51, 51, 53, 51], [52, 51, 51, 53, 53], [53, 51, 51, 53, 51], [52, 51, 51, 53, 51], [52, 51, 51, 53, 51], [52, 51, 51, 48, 51], [52, 51, 51, 48, 51]]\n",
      "fitnes with individu\n",
      "[(1, [55, 51, 51, 53, 55]), (5, [55, 51, 51, 53, 51]), (5, [55, 51, 51, 53, 51]), (5, [55, 51, 51, 53, 51]), (6, [52, 51, 51, 53, 53]), (7, [53, 51, 51, 53, 51]), (8, [52, 51, 51, 53, 51]), (8, [52, 51, 51, 53, 51]), (13, [52, 51, 51, 48, 51]), (13, [52, 51, 51, 48, 51])]\n",
      "best fit and best individu in generation\n",
      "(1, [55, 51, 51, 53, 55])\n",
      "--------------------------\n",
      "ini generasi ke  23\n",
      "hasil selection [[55, 51, 51, 53, 55], [55, 51, 51, 53, 51]]\n",
      "hasil cross [55, 51, 51, 53, 51]\n",
      "hasil mutasi [52, 51, 51, 53, 51]\n",
      "populasi baru\n",
      "[[55, 51, 51, 53, 55], [55, 51, 51, 53, 51], [55, 51, 51, 53, 51], [55, 51, 51, 53, 51], [52, 51, 51, 53, 53], [53, 51, 51, 53, 51], [52, 51, 51, 53, 51], [52, 51, 51, 53, 51], [52, 51, 51, 53, 51], [52, 51, 51, 48, 51]]\n",
      "fitnes with individu\n",
      "[(1, [55, 51, 51, 53, 55]), (5, [55, 51, 51, 53, 51]), (5, [55, 51, 51, 53, 51]), (5, [55, 51, 51, 53, 51]), (6, [52, 51, 51, 53, 53]), (7, [53, 51, 51, 53, 51]), (8, [52, 51, 51, 53, 51]), (8, [52, 51, 51, 53, 51]), (8, [52, 51, 51, 53, 51]), (13, [52, 51, 51, 48, 51])]\n",
      "best fit and best individu in generation\n",
      "(1, [55, 51, 51, 53, 55])\n",
      "--------------------------\n",
      "ini generasi ke  24\n",
      "hasil selection [[55, 51, 51, 53, 55], [55, 51, 51, 53, 51]]\n",
      "hasil cross [55, 51, 51, 53, 51]\n",
      "hasil mutasi [55, 51, 51, 53, 51]\n",
      "populasi baru\n",
      "[[55, 51, 51, 53, 55], [55, 51, 51, 53, 51], [55, 51, 51, 53, 51], [55, 51, 51, 53, 51], [55, 51, 51, 53, 51], [52, 51, 51, 53, 53], [53, 51, 51, 53, 51], [52, 51, 51, 53, 51], [52, 51, 51, 53, 51], [52, 51, 51, 53, 51]]\n",
      "fitnes with individu\n",
      "[(1, [55, 51, 51, 53, 55]), (5, [55, 51, 51, 53, 51]), (5, [55, 51, 51, 53, 51]), (5, [55, 51, 51, 53, 51]), (5, [55, 51, 51, 53, 51]), (6, [52, 51, 51, 53, 53]), (7, [53, 51, 51, 53, 51]), (8, [52, 51, 51, 53, 51]), (8, [52, 51, 51, 53, 51]), (8, [52, 51, 51, 53, 51])]\n",
      "best fit and best individu in generation\n",
      "(1, [55, 51, 51, 53, 55])\n",
      "--------------------------\n",
      "ini generasi ke  25\n",
      "hasil selection [[55, 51, 51, 53, 55], [55, 51, 51, 53, 51]]\n",
      "hasil cross [55, 51, 51, 53, 51]\n",
      "hasil mutasi [55, 51, 51, 53, 51]\n",
      "populasi baru\n",
      "[[55, 51, 51, 53, 55], [55, 51, 51, 53, 51], [55, 51, 51, 53, 51], [55, 51, 51, 53, 51], [55, 51, 51, 53, 51], [55, 51, 51, 53, 51], [52, 51, 51, 53, 53], [53, 51, 51, 53, 51], [52, 51, 51, 53, 51], [52, 51, 51, 53, 51]]\n",
      "fitnes with individu\n",
      "[(1, [55, 51, 51, 53, 55]), (5, [55, 51, 51, 53, 51]), (5, [55, 51, 51, 53, 51]), (5, [55, 51, 51, 53, 51]), (5, [55, 51, 51, 53, 51]), (5, [55, 51, 51, 53, 51]), (6, [52, 51, 51, 53, 53]), (7, [53, 51, 51, 53, 51]), (8, [52, 51, 51, 53, 51]), (8, [52, 51, 51, 53, 51])]\n",
      "best fit and best individu in generation\n",
      "(1, [55, 51, 51, 53, 55])\n",
      "--------------------------\n",
      "ini generasi ke  26\n",
      "hasil selection [[55, 51, 51, 53, 55], [55, 51, 51, 53, 51]]\n",
      "hasil cross [55, 51, 51, 53, 51]\n",
      "hasil mutasi [55, 51, 51, 53, 51]\n",
      "populasi baru\n",
      "[[55, 51, 51, 53, 55], [55, 51, 51, 53, 51], [55, 51, 51, 53, 51], [55, 51, 51, 53, 51], [55, 51, 51, 53, 51], [55, 51, 51, 53, 51], [55, 51, 51, 53, 51], [52, 51, 51, 53, 53], [53, 51, 51, 53, 51], [52, 51, 51, 53, 51]]\n",
      "fitnes with individu\n",
      "[(1, [55, 51, 51, 53, 55]), (5, [55, 51, 51, 53, 51]), (5, [55, 51, 51, 53, 51]), (5, [55, 51, 51, 53, 51]), (5, [55, 51, 51, 53, 51]), (5, [55, 51, 51, 53, 51]), (5, [55, 51, 51, 53, 51]), (6, [52, 51, 51, 53, 53]), (7, [53, 51, 51, 53, 51]), (8, [52, 51, 51, 53, 51])]\n",
      "best fit and best individu in generation\n",
      "(1, [55, 51, 51, 53, 55])\n",
      "--------------------------\n",
      "ini generasi ke  27\n",
      "hasil selection [[55, 51, 51, 53, 55], [55, 51, 51, 53, 51]]\n",
      "hasil cross [55, 51, 51, 53, 51]\n",
      "hasil mutasi [55, 51, 51, 53, 51]\n",
      "populasi baru\n",
      "[[55, 51, 51, 53, 55], [55, 51, 51, 53, 51], [55, 51, 51, 53, 51], [55, 51, 51, 53, 51], [55, 51, 51, 53, 51], [55, 51, 51, 53, 51], [55, 51, 51, 53, 51], [55, 51, 51, 53, 51], [52, 51, 51, 53, 53], [53, 51, 51, 53, 51]]\n",
      "fitnes with individu\n",
      "[(1, [55, 51, 51, 53, 55]), (5, [55, 51, 51, 53, 51]), (5, [55, 51, 51, 53, 51]), (5, [55, 51, 51, 53, 51]), (5, [55, 51, 51, 53, 51]), (5, [55, 51, 51, 53, 51]), (5, [55, 51, 51, 53, 51]), (5, [55, 51, 51, 53, 51]), (6, [52, 51, 51, 53, 53]), (7, [53, 51, 51, 53, 51])]\n",
      "best fit and best individu in generation\n",
      "(1, [55, 51, 51, 53, 55])\n",
      "--------------------------\n",
      "ini generasi ke  28\n",
      "hasil selection [[55, 51, 51, 53, 55], [55, 51, 51, 53, 51]]\n",
      "hasil cross [55, 51, 51, 53, 51]\n",
      "hasil mutasi [55, 51, 51, 53, 53]\n",
      "populasi baru\n",
      "[[55, 51, 51, 53, 55], [55, 51, 51, 53, 53], [55, 51, 51, 53, 51], [55, 51, 51, 53, 51], [55, 51, 51, 53, 51], [55, 51, 51, 53, 51], [55, 51, 51, 53, 51], [55, 51, 51, 53, 51], [55, 51, 51, 53, 51], [52, 51, 51, 53, 53]]\n",
      "fitnes with individu\n",
      "[(1, [55, 51, 51, 53, 55]), (3, [55, 51, 51, 53, 53]), (5, [55, 51, 51, 53, 51]), (5, [55, 51, 51, 53, 51]), (5, [55, 51, 51, 53, 51]), (5, [55, 51, 51, 53, 51]), (5, [55, 51, 51, 53, 51]), (5, [55, 51, 51, 53, 51]), (5, [55, 51, 51, 53, 51]), (6, [52, 51, 51, 53, 53])]\n",
      "best fit and best individu in generation\n",
      "(1, [55, 51, 51, 53, 55])\n",
      "--------------------------\n",
      "ini generasi ke  29\n",
      "hasil selection [[55, 51, 51, 53, 55], [55, 51, 51, 53, 53]]\n",
      "hasil cross [55, 51, 51, 53, 53]\n",
      "hasil mutasi [55, 51, 51, 53, 51]\n",
      "populasi baru\n",
      "[[55, 51, 51, 53, 55], [55, 51, 51, 53, 53], [55, 51, 51, 53, 51], [55, 51, 51, 53, 51], [55, 51, 51, 53, 51], [55, 51, 51, 53, 51], [55, 51, 51, 53, 51], [55, 51, 51, 53, 51], [55, 51, 51, 53, 51], [55, 51, 51, 53, 51]]\n",
      "fitnes with individu\n",
      "[(1, [55, 51, 51, 53, 55]), (3, [55, 51, 51, 53, 53]), (5, [55, 51, 51, 53, 51]), (5, [55, 51, 51, 53, 51]), (5, [55, 51, 51, 53, 51]), (5, [55, 51, 51, 53, 51]), (5, [55, 51, 51, 53, 51]), (5, [55, 51, 51, 53, 51]), (5, [55, 51, 51, 53, 51]), (5, [55, 51, 51, 53, 51])]\n",
      "best fit and best individu in generation\n",
      "(1, [55, 51, 51, 53, 55])\n",
      "--------------------------\n",
      "ini generasi ke  30\n",
      "hasil selection [[55, 51, 51, 53, 55], [55, 51, 51, 53, 53]]\n",
      "hasil cross [55, 51, 51, 53, 53]\n",
      "hasil mutasi [52, 51, 51, 53, 53]\n",
      "populasi baru\n",
      "[[55, 51, 51, 53, 55], [55, 51, 51, 53, 53], [55, 51, 51, 53, 51], [55, 51, 51, 53, 51], [55, 51, 51, 53, 51], [55, 51, 51, 53, 51], [55, 51, 51, 53, 51], [55, 51, 51, 53, 51], [55, 51, 51, 53, 51], [55, 51, 51, 53, 51]]\n",
      "fitnes with individu\n",
      "[(1, [55, 51, 51, 53, 55]), (3, [55, 51, 51, 53, 53]), (5, [55, 51, 51, 53, 51]), (5, [55, 51, 51, 53, 51]), (5, [55, 51, 51, 53, 51]), (5, [55, 51, 51, 53, 51]), (5, [55, 51, 51, 53, 51]), (5, [55, 51, 51, 53, 51]), (5, [55, 51, 51, 53, 51]), (5, [55, 51, 51, 53, 51])]\n",
      "best fit and best individu in generation\n",
      "(1, [55, 51, 51, 53, 55])\n",
      "--------------------------\n",
      "ini generasi ke  31\n",
      "hasil selection [[55, 51, 51, 53, 55], [55, 51, 51, 53, 53]]\n",
      "hasil cross [55, 51, 51, 53, 53]\n",
      "hasil mutasi [55, 26, 51, 53, 53]\n",
      "populasi baru\n",
      "[[55, 51, 51, 53, 55], [55, 51, 51, 53, 53], [55, 51, 51, 53, 51], [55, 51, 51, 53, 51], [55, 51, 51, 53, 51], [55, 51, 51, 53, 51], [55, 51, 51, 53, 51], [55, 51, 51, 53, 51], [55, 51, 51, 53, 51], [55, 51, 51, 53, 51]]\n",
      "fitnes with individu\n",
      "[(1, [55, 51, 51, 53, 55]), (3, [55, 51, 51, 53, 53]), (5, [55, 51, 51, 53, 51]), (5, [55, 51, 51, 53, 51]), (5, [55, 51, 51, 53, 51]), (5, [55, 51, 51, 53, 51]), (5, [55, 51, 51, 53, 51]), (5, [55, 51, 51, 53, 51]), (5, [55, 51, 51, 53, 51]), (5, [55, 51, 51, 53, 51])]\n",
      "best fit and best individu in generation\n",
      "(1, [55, 51, 51, 53, 55])\n",
      "--------------------------\n",
      "ini generasi ke  32\n",
      "hasil selection [[55, 51, 51, 53, 55], [55, 51, 51, 53, 53]]\n",
      "hasil cross [55, 51, 51, 53, 53]\n",
      "hasil mutasi [55, 51, 51, 53, 50]\n",
      "populasi baru\n",
      "[[55, 51, 51, 53, 55], [55, 51, 51, 53, 53], [55, 51, 51, 53, 51], [55, 51, 51, 53, 51], [55, 51, 51, 53, 51], [55, 51, 51, 53, 51], [55, 51, 51, 53, 51], [55, 51, 51, 53, 51], [55, 51, 51, 53, 51], [55, 51, 51, 53, 51]]\n",
      "fitnes with individu\n",
      "[(1, [55, 51, 51, 53, 55]), (3, [55, 51, 51, 53, 53]), (5, [55, 51, 51, 53, 51]), (5, [55, 51, 51, 53, 51]), (5, [55, 51, 51, 53, 51]), (5, [55, 51, 51, 53, 51]), (5, [55, 51, 51, 53, 51]), (5, [55, 51, 51, 53, 51]), (5, [55, 51, 51, 53, 51]), (5, [55, 51, 51, 53, 51])]\n",
      "best fit and best individu in generation\n",
      "(1, [55, 51, 51, 53, 55])\n",
      "--------------------------\n",
      "ini generasi ke  33\n",
      "hasil selection [[55, 51, 51, 53, 55], [55, 51, 51, 53, 53]]\n",
      "hasil cross [55, 51, 51, 53, 53]\n",
      "hasil mutasi [55, 51, 51, 53, 55]\n",
      "populasi baru\n",
      "[[55, 51, 51, 53, 55], [55, 51, 51, 53, 55], [55, 51, 51, 53, 53], [55, 51, 51, 53, 51], [55, 51, 51, 53, 51], [55, 51, 51, 53, 51], [55, 51, 51, 53, 51], [55, 51, 51, 53, 51], [55, 51, 51, 53, 51], [55, 51, 51, 53, 51]]\n",
      "fitnes with individu\n",
      "[(1, [55, 51, 51, 53, 55]), (1, [55, 51, 51, 53, 55]), (3, [55, 51, 51, 53, 53]), (5, [55, 51, 51, 53, 51]), (5, [55, 51, 51, 53, 51]), (5, [55, 51, 51, 53, 51]), (5, [55, 51, 51, 53, 51]), (5, [55, 51, 51, 53, 51]), (5, [55, 51, 51, 53, 51]), (5, [55, 51, 51, 53, 51])]\n",
      "best fit and best individu in generation\n",
      "(1, [55, 51, 51, 53, 55])\n",
      "--------------------------\n",
      "ini generasi ke  34\n",
      "hasil selection [[55, 51, 51, 53, 55], [55, 51, 51, 53, 55]]\n",
      "hasil cross [55, 51, 51, 53, 55]\n",
      "hasil mutasi [55, 51, 54, 53, 55]\n",
      "populasi baru\n",
      "[[55, 51, 54, 53, 55], [55, 51, 51, 53, 55], [55, 51, 51, 53, 55], [55, 51, 51, 53, 53], [55, 51, 51, 53, 51], [55, 51, 51, 53, 51], [55, 51, 51, 53, 51], [55, 51, 51, 53, 51], [55, 51, 51, 53, 51], [55, 51, 51, 53, 51]]\n",
      "fitnes with individu\n",
      "[(-2, [55, 51, 54, 53, 55]), (1, [55, 51, 51, 53, 55]), (1, [55, 51, 51, 53, 55]), (3, [55, 51, 51, 53, 53]), (5, [55, 51, 51, 53, 51]), (5, [55, 51, 51, 53, 51]), (5, [55, 51, 51, 53, 51]), (5, [55, 51, 51, 53, 51]), (5, [55, 51, 51, 53, 51]), (5, [55, 51, 51, 53, 51])]\n",
      "best fit and best individu in generation\n",
      "(-2, [55, 51, 54, 53, 55])\n",
      "--------------------------\n"
     ]
    }
   ],
   "source": [
    "'''\n",
    "percobaan\n",
    "kombinasi = one variable + best selection + uniform crossover + mutation *replace + replace worst individu\n",
    "generasi = 100\n",
    "'''\n",
    "init_data = [50, 23, 19, 47, 48]\n",
    "vaksin = 266\n",
    "max_val = 55\n",
    "pop = create_population(10, max_val)\n",
    "fitness = calc_population_fitness(pop, vaksin)\n",
    "\n",
    "\n",
    "generation = pop\n",
    "cur_best_fitness = 100\n",
    "histori = []\n",
    "i = 1\n",
    "print('generasi awal', generation)\n",
    "print('--------------------------')\n",
    "while (cur_best_fitness >= 0 and i <= 100):\n",
    "    # for i in range(1,80):\n",
    "    print('ini generasi ke ', i)\n",
    "    hsl_selection = best_selection(generation, vaksin)\n",
    "    #hsl_selection = roulette(generation, vaksin)\n",
    "    #hsl_selection = parent_from_tournamen(generation, vaksin)\n",
    "    print('hasil selection', hsl_selection)\n",
    "    #hsl_cross = uniform(hsl_selection)\n",
    "    hsl_cross = point_xover(hsl_selection)\n",
    "    print('hasil cross', hsl_cross)\n",
    "    hsl_mutate = mutate(hsl_cross, init_data, max_val)\n",
    "    print('hasil mutasi', hsl_mutate)\n",
    "    hsl_replacement = replace_worst_individu(generation, hsl_mutate, vaksin)\n",
    "    #hsl_replacement = replace_worst_parent(generation, hsl_selection, hsl_mutate, vaksin)\n",
    "    print('populasi baru')\n",
    "    print(hsl_replacement)\n",
    "    print('fitnes with individu')\n",
    "    print(print_natural_selection(hsl_replacement, vaksin))\n",
    "    print('best fit and best individu in generation')\n",
    "    print(print_natural_selection(hsl_replacement, vaksin)[0])\n",
    "    print('--------------------------')\n",
    "\n",
    "    # ambil fitnes terbaik setiap generasi\n",
    "    best_fit, best_idv = print_natural_selection(hsl_replacement, vaksin)[0]\n",
    "    if best_fit <= 0:\n",
    "        break\n",
    "    if best_fit < cur_best_fitness:\n",
    "        cur_best_fitness = best_fit\n",
    "\n",
    "    i += 1\n",
    "    histori.append(best_fit)\n",
    "    # reset generation dan isi dengan\n",
    "    generation = hsl_replacement"
   ]
  },
  {
   "cell_type": "markdown",
   "metadata": {},
   "source": [
    "# Plot"
   ]
  },
  {
   "cell_type": "code",
   "execution_count": 143,
   "metadata": {},
   "outputs": [
    {
     "data": {
      "image/png": "[encoded data removed]",
      "text/plain": [
       "<Figure size 576x504 with 1 Axes>"
      ]
     },
     "metadata": {},
     "output_type": "display_data"
    }
   ],
   "source": [
    "plt.plot(histori,marker='')\n",
    "plt.xlabel(\"Generation\")\n",
    "plt.ylabel(\"Fitness\")\n",
    "\n",
    "plt.show()"
   ]
  },
  {
   "cell_type": "code",
   "execution_count": null,
   "metadata": {},
   "outputs": [],
   "source": []
  }
 ],
 "metadata": {
  "kernelspec": {
   "display_name": "Python 3",
   "language": "python",
   "name": "python3"
  },
  "language_info": {
   "codemirror_mode": {
    "name": "ipython",
    "version": 3
   },
   "file_extension": ".py",
   "mimetype": "text/x-python",
   "name": "python",
   "nbconvert_exporter": "python",
   "pygments_lexer": "ipython3",
   "version": "3.6.8"
  },
  "toc": {
   "base_numbering": 1,
   "nav_menu": {},
   "number_sections": true,
   "sideBar": true,
   "skip_h1_title": false,
   "title_cell": "Table of Contents",
   "title_sidebar": "Contents",
   "toc_cell": false,
   "toc_position": {
    "height": "calc(100% - 180px)",
    "left": "10px",
    "top": "150px",
    "width": "384px"
   },
   "toc_section_display": true,
   "toc_window_display": true
  }
 },
 "nbformat": 4,
 "nbformat_minor": 2
}
