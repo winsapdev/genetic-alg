{
 "cells": [
  {
   "cell_type": "markdown",
   "metadata": {},
   "source": [
    "# Kapasitas Gudang"
   ]
  },
  {
   "cell_type": "markdown",
   "metadata": {},
   "source": [
    "# Introduction"
   ]
  },
  {
   "cell_type": "markdown",
   "metadata": {},
   "source": [
    "## problem"
   ]
  },
  {
   "cell_type": "markdown",
   "metadata": {},
   "source": [
    "kapasitas gudang dalam meter kubik 115.2 meter kubik\n",
    "barang dalam meter kubik\n",
    "1. beras, tepung, gula 0.36\n",
    "2. mie instan 0.007\n",
    "3. minyak 0.019"
   ]
  },
  {
   "cell_type": "markdown",
   "metadata": {},
   "source": [
    "# Initiation"
   ]
  },
  {
   "cell_type": "markdown",
   "metadata": {},
   "source": [
    "### Individu"
   ]
  },
  {
   "cell_type": "code",
   "execution_count": 34,
   "metadata": {},
   "outputs": [],
   "source": [
    "# import module\n",
    "import random\n",
    "import matplotlib.pyplot as plt\n",
    "from jupyterthemes import jtplot\n",
    "jtplot.style(theme='monokai', context='notebook', ticks=True, grid=False)"
   ]
  },
  {
   "cell_type": "code",
   "execution_count": 35,
   "metadata": {},
   "outputs": [],
   "source": [
    "#beras, tepung, gula, mie, minyak\n",
    "barang = [0.36, 0.36, 0.36, 0.007, 0.019]"
   ]
  },
  {
   "cell_type": "code",
   "execution_count": 36,
   "metadata": {},
   "outputs": [],
   "source": [
    "def create_individu(max):\n",
    "    #return [(random.randint(0, max)*i, for i in barang]\n",
    "    individu = []\n",
    "    for i in barang:\n",
    "        jml = random.randint(1, max)\n",
    "        individu.append((jml, round(jml*i, 2)))\n",
    "    return individu"
   ]
  },
  {
   "cell_type": "code",
   "execution_count": 37,
   "metadata": {},
   "outputs": [
    {
     "data": {
      "text/plain": [
       "[(80, 28.8), (29, 10.44), (28, 10.08), (17, 0.12), (30, 0.57)]"
      ]
     },
     "execution_count": 37,
     "metadata": {},
     "output_type": "execute_result"
    }
   ],
   "source": [
    "create_individu(100)"
   ]
  },
  {
   "cell_type": "markdown",
   "metadata": {},
   "source": [
    "### Population"
   ]
  },
  {
   "cell_type": "code",
   "execution_count": 38,
   "metadata": {},
   "outputs": [],
   "source": [
    "def create_population(num_of_individu, max):\n",
    "    return [create_individu(max) for i in range(num_of_individu)]"
   ]
  },
  {
   "cell_type": "markdown",
   "metadata": {},
   "source": [
    "### Fitness Function"
   ]
  },
  {
   "cell_type": "code",
   "execution_count": 39,
   "metadata": {},
   "outputs": [],
   "source": [
    "def fitness_value(individu, target):\n",
    "#     summed = sum(individu)\n",
    "#     return int(target-summed)\n",
    "    total = 0\n",
    "    for i in individu:\n",
    "        total += i[1]\n",
    "    return float(target-total)"
   ]
  },
  {
   "cell_type": "code",
   "execution_count": 40,
   "metadata": {},
   "outputs": [],
   "source": [
    "def calc_population_fitness(population, target):\n",
    "    return [fitness_value(individu, target) for individu in population]"
   ]
  },
  {
   "cell_type": "code",
   "execution_count": 41,
   "metadata": {},
   "outputs": [],
   "source": [
    "pop = create_population(10, 100)"
   ]
  },
  {
   "cell_type": "code",
   "execution_count": 42,
   "metadata": {
    "scrolled": true
   },
   "outputs": [
    {
     "data": {
      "text/plain": [
       "[[(36, 12.96), (85, 30.6), (15, 5.4), (25, 0.18), (53, 1.01)],\n",
       " [(81, 29.16), (68, 24.48), (92, 33.12), (63, 0.44), (49, 0.93)],\n",
       " [(8, 2.88), (9, 3.24), (80, 28.8), (32, 0.22), (13, 0.25)],\n",
       " [(60, 21.6), (14, 5.04), (89, 32.04), (42, 0.29), (91, 1.73)],\n",
       " [(54, 19.44), (85, 30.6), (72, 25.92), (75, 0.53), (24, 0.46)],\n",
       " [(39, 14.04), (61, 21.96), (84, 30.24), (37, 0.26), (19, 0.36)],\n",
       " [(69, 24.84), (27, 9.72), (47, 16.92), (89, 0.62), (71, 1.35)],\n",
       " [(37, 13.32), (55, 19.8), (56, 20.16), (60, 0.42), (44, 0.84)],\n",
       " [(99, 35.64), (7, 2.52), (36, 12.96), (63, 0.44), (14, 0.27)],\n",
       " [(88, 31.68), (3, 1.08), (30, 10.8), (41, 0.29), (54, 1.03)]]"
      ]
     },
     "execution_count": 42,
     "metadata": {},
     "output_type": "execute_result"
    }
   ],
   "source": [
    "pop"
   ]
  },
  {
   "cell_type": "code",
   "execution_count": 43,
   "metadata": {},
   "outputs": [
    {
     "data": {
      "text/plain": [
       "[65.05000000000001,\n",
       " 27.070000000000007,\n",
       " 79.81,\n",
       " 54.50000000000001,\n",
       " 38.25,\n",
       " 48.34,\n",
       " 61.75,\n",
       " 60.66,\n",
       " 63.37,\n",
       " 70.32]"
      ]
     },
     "execution_count": 43,
     "metadata": {},
     "output_type": "execute_result"
    }
   ],
   "source": [
    "calc_population_fitness(pop, 115.2)"
   ]
  },
  {
   "cell_type": "markdown",
   "metadata": {},
   "source": [
    "# Representation"
   ]
  },
  {
   "cell_type": "markdown",
   "metadata": {},
   "source": [
    "## One Variable"
   ]
  },
  {
   "cell_type": "markdown",
   "metadata": {},
   "source": [
    "# Parent Selection"
   ]
  },
  {
   "cell_type": "markdown",
   "metadata": {},
   "source": [
    "## Best Selection"
   ]
  },
  {
   "cell_type": "code",
   "execution_count": 46,
   "metadata": {},
   "outputs": [],
   "source": [
    "def best_selection(population, target):\n",
    "    pop_tuple = [(idv, fitness_value(idv, target)) for idv in population]\n",
    "    sorted_tuple = sorted(pop_tuple, key=lambda pop: pop[1])  # sort by fitness\n",
    "    # return 2 best individu\n",
    "    best2 = []\n",
    "    for idv in sorted_tuple:\n",
    "        best2.append(idv[0])\n",
    "    return best2[0:2]\n",
    "    #return sorted_tuple[0:2]"
   ]
  },
  {
   "cell_type": "code",
   "execution_count": 55,
   "metadata": {},
   "outputs": [
    {
     "data": {
      "text/plain": [
       "[([(81, 29.16), (68, 24.48), (92, 33.12), (63, 0.44), (49, 0.93)],\n",
       "  27.070000000000007),\n",
       " ([(54, 19.44), (85, 30.6), (72, 25.92), (75, 0.53), (24, 0.46)], 38.25)]"
      ]
     },
     "execution_count": 55,
     "metadata": {},
     "output_type": "execute_result"
    }
   ],
   "source": [
    "best_selection(pop, 115.2)"
   ]
  },
  {
   "cell_type": "markdown",
   "metadata": {},
   "source": [
    "## Roulette"
   ]
  },
  {
   "cell_type": "code",
   "execution_count": 53,
   "metadata": {},
   "outputs": [],
   "source": [
    "# roulete\n",
    "def roulette(population, target):\n",
    "    '''\n",
    "    aturan :\n",
    "    jika telah terpilih 1 \n",
    "    maka individu itu harus terdelete dari populasi untuk dilakukan roulete lagi\n",
    "    '''\n",
    "    pop = population.copy()\n",
    "    selected = []\n",
    "    for i in range(2):\n",
    "        summed = sum(calc_population_fitness(pop, target))\n",
    "        point = random.uniform(0, summed)\n",
    "        total = 0\n",
    "        for individu in pop:\n",
    "            total = total + fitness_value(individu, target)\n",
    "            if point < total:\n",
    "                selected.append(individu)\n",
    "                pop.remove(individu) #hapus individu untuk roulete selanjutnya\n",
    "    return selected\n",
    "    "
   ]
  },
  {
   "cell_type": "code",
   "execution_count": 54,
   "metadata": {},
   "outputs": [
    {
     "data": {
      "text/plain": [
       "[[(60, 21.6), (14, 5.04), (89, 32.04), (42, 0.29), (91, 1.73)],\n",
       " [(39, 14.04), (61, 21.96), (84, 30.24), (37, 0.26), (19, 0.36)],\n",
       " [(37, 13.32), (55, 19.8), (56, 20.16), (60, 0.42), (44, 0.84)],\n",
       " [(88, 31.68), (3, 1.08), (30, 10.8), (41, 0.29), (54, 1.03)],\n",
       " [(36, 12.96), (85, 30.6), (15, 5.4), (25, 0.18), (53, 1.01)],\n",
       " [(8, 2.88), (9, 3.24), (80, 28.8), (32, 0.22), (13, 0.25)],\n",
       " [(69, 24.84), (27, 9.72), (47, 16.92), (89, 0.62), (71, 1.35)]]"
      ]
     },
     "execution_count": 54,
     "metadata": {},
     "output_type": "execute_result"
    }
   ],
   "source": [
    "roulette(pop, 115.2)"
   ]
  },
  {
   "cell_type": "markdown",
   "metadata": {},
   "source": [
    "## Simple Tournamen"
   ]
  },
  {
   "cell_type": "code",
   "execution_count": 56,
   "metadata": {},
   "outputs": [],
   "source": [
    "def simple_tournament(population, target):\n",
    "    random_idv = random.sample(population, 2)\n",
    "    idv1 = random_idv[0]\n",
    "    idv2 = random_idv[1]\n",
    "    if fitness_value(idv1, target) >= fitness_value(idv2, target):\n",
    "        return idv1\n",
    "    else:\n",
    "        return idv2\n",
    "    \n",
    "def parent_from_tournamen(population, target):\n",
    "    selected = []\n",
    "    for i in range(2):\n",
    "        p = simple_tournament(population, target)\n",
    "        selected.append(p)\n",
    "    return selected"
   ]
  },
  {
   "cell_type": "code",
   "execution_count": 57,
   "metadata": {},
   "outputs": [
    {
     "data": {
      "text/plain": [
       "[[(99, 35.64), (7, 2.52), (36, 12.96), (63, 0.44), (14, 0.27)],\n",
       " [(54, 19.44), (85, 30.6), (72, 25.92), (75, 0.53), (24, 0.46)]]"
      ]
     },
     "execution_count": 57,
     "metadata": {},
     "output_type": "execute_result"
    }
   ],
   "source": [
    "parent_from_tournamen(pop, 115.2)"
   ]
  },
  {
   "cell_type": "markdown",
   "metadata": {},
   "source": [
    "# Crossover"
   ]
  },
  {
   "cell_type": "markdown",
   "metadata": {},
   "source": [
    "## Uniform"
   ]
  },
  {
   "cell_type": "markdown",
   "metadata": {},
   "source": [
    "## Point Crossover"
   ]
  },
  {
   "cell_type": "markdown",
   "metadata": {},
   "source": [
    "# Mutation"
   ]
  },
  {
   "cell_type": "markdown",
   "metadata": {},
   "source": [
    "# Natural Selection"
   ]
  },
  {
   "cell_type": "markdown",
   "metadata": {},
   "source": [
    "## Replace Worst Individu"
   ]
  },
  {
   "cell_type": "markdown",
   "metadata": {},
   "source": [
    "## Replace Worst Parent"
   ]
  },
  {
   "cell_type": "markdown",
   "metadata": {},
   "source": [
    "# Run Code Together\n",
    "*coba kombinasinya*"
   ]
  },
  {
   "cell_type": "markdown",
   "metadata": {},
   "source": [
    "# Plot"
   ]
  },
  {
   "cell_type": "code",
   "execution_count": null,
   "metadata": {},
   "outputs": [],
   "source": []
  }
 ],
 "metadata": {
  "kernelspec": {
   "display_name": "Python 3",
   "language": "python",
   "name": "python3"
  },
  "language_info": {
   "codemirror_mode": {
    "name": "ipython",
    "version": 3
   },
   "file_extension": ".py",
   "mimetype": "text/x-python",
   "name": "python",
   "nbconvert_exporter": "python",
   "pygments_lexer": "ipython3",
   "version": "3.6.8"
  },
  "toc": {
   "base_numbering": 1,
   "nav_menu": {},
   "number_sections": true,
   "sideBar": true,
   "skip_h1_title": false,
   "title_cell": "Table of Contents",
   "title_sidebar": "Contents",
   "toc_cell": false,
   "toc_position": {
    "height": "calc(100% - 180px)",
    "left": "10px",
    "top": "150px",
    "width": "384px"
   },
   "toc_section_display": true,
   "toc_window_display": true
  }
 },
 "nbformat": 4,
 "nbformat_minor": 2
}
